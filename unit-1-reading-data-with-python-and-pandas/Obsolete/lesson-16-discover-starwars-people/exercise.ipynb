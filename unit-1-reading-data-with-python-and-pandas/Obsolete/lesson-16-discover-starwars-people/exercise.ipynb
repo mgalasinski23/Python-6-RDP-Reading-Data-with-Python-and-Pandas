{
 "cells": [
  {
   "cell_type": "code",
   "execution_count": 2,
   "id": "95bcfbe2",
   "metadata": {},
   "outputs": [],
   "source": [
    "import numpy as np\n",
    "import pandas as pd\n",
    "import requests"
   ]
  },
  {
   "cell_type": "code",
   "execution_count": 3,
   "id": "0586648e",
   "metadata": {},
   "outputs": [],
   "source": [
    "req = requests.get(\"https://swapi.co/api/people/?format=json\")"
   ]
  },
  {
   "cell_type": "code",
   "execution_count": 5,
   "id": "c2d7d8a8",
   "metadata": {},
   "outputs": [
    {
     "data": {
      "text/plain": [
       "200"
      ]
     },
     "execution_count": 5,
     "metadata": {},
     "output_type": "execute_result"
    }
   ],
   "source": [
    "req.status_code"
   ]
  },
  {
   "cell_type": "code",
   "execution_count": 6,
   "id": "97184d14",
   "metadata": {},
   "outputs": [
    {
     "data": {
      "text/plain": [
       "'Endpoint not meant for programmatic use. Returning 200 to reduce possible burden.\\n'"
      ]
     },
     "execution_count": 6,
     "metadata": {},
     "output_type": "execute_result"
    }
   ],
   "source": [
    "req.text"
   ]
  },
  {
   "cell_type": "code",
   "execution_count": 8,
   "id": "2c4e9bbd",
   "metadata": {},
   "outputs": [],
   "source": [
    "#the api has been blocked"
   ]
  },
  {
   "cell_type": "code",
   "execution_count": 9,
   "id": "b312b6b0",
   "metadata": {},
   "outputs": [],
   "source": [
    "req.close()"
   ]
  },
  {
   "cell_type": "code",
   "execution_count": null,
   "id": "d4ad402e",
   "metadata": {},
   "outputs": [],
   "source": []
  }
 ],
 "metadata": {
  "kernelspec": {
   "display_name": "Python 3 (ipykernel)",
   "language": "python",
   "name": "python3"
  },
  "language_info": {
   "codemirror_mode": {
    "name": "ipython",
    "version": 3
   },
   "file_extension": ".py",
   "mimetype": "text/x-python",
   "name": "python",
   "nbconvert_exporter": "python",
   "pygments_lexer": "ipython3",
   "version": "3.9.12"
  }
 },
 "nbformat": 4,
 "nbformat_minor": 5
}
