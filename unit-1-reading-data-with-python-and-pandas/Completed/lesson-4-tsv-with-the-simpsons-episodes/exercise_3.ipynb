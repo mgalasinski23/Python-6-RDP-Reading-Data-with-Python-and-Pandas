{
 "cells": [
  {
   "cell_type": "code",
   "execution_count": 1,
   "id": "288e3fe5",
   "metadata": {},
   "outputs": [],
   "source": [
    "import numpy as np\n",
    "import pandas as pd\n",
    "\n",
    "col_names = ['Title', 'Air date', 'Production code', 'Season', 'Number in season',\n",
    "             'Number in series', 'US viewers (million)', 'Views', 'IMDB rating']"
   ]
  },
  {
   "cell_type": "code",
   "execution_count": 35,
   "id": "66810013",
   "metadata": {},
   "outputs": [],
   "source": [
    "simpsons = pd.read_csv('files/simpsons-episodes.tsv',\n",
    "                      sep='\\t',\n",
    "                      header=None,\n",
    "                      skiprows=4,\n",
    "                      names=col_names,\n",
    "                      usecols=[\"Title\",\"Air date\", \"Production code\", \"IMDB rating\" ],\n",
    "                      index_col='Production code',\n",
    "                      parse_dates=[1],\n",
    "                      na_values=\"no_val\")"
   ]
  },
  {
   "cell_type": "code",
   "execution_count": 36,
   "id": "118dd22d",
   "metadata": {},
   "outputs": [
    {
     "data": {
      "text/html": [
       "<div>\n",
       "<style scoped>\n",
       "    .dataframe tbody tr th:only-of-type {\n",
       "        vertical-align: middle;\n",
       "    }\n",
       "\n",
       "    .dataframe tbody tr th {\n",
       "        vertical-align: top;\n",
       "    }\n",
       "\n",
       "    .dataframe thead th {\n",
       "        text-align: right;\n",
       "    }\n",
       "</style>\n",
       "<table border=\"1\" class=\"dataframe\">\n",
       "  <thead>\n",
       "    <tr style=\"text-align: right;\">\n",
       "      <th></th>\n",
       "      <th>Title</th>\n",
       "      <th>Air date</th>\n",
       "      <th>IMDB rating</th>\n",
       "    </tr>\n",
       "    <tr>\n",
       "      <th>Production code</th>\n",
       "      <th></th>\n",
       "      <th></th>\n",
       "      <th></th>\n",
       "    </tr>\n",
       "  </thead>\n",
       "  <tbody>\n",
       "    <tr>\n",
       "      <th>7F01</th>\n",
       "      <td>Two Cars in Every Garage and Three Eyes on Eve...</td>\n",
       "      <td>1990-01-11</td>\n",
       "      <td>8.1</td>\n",
       "    </tr>\n",
       "    <tr>\n",
       "      <th>7F08</th>\n",
       "      <td>NaN</td>\n",
       "      <td>1990-11-15</td>\n",
       "      <td>8.0</td>\n",
       "    </tr>\n",
       "    <tr>\n",
       "      <th>7F06</th>\n",
       "      <td>Bart the Daredevil</td>\n",
       "      <td>1990-06-12</td>\n",
       "      <td>NaN</td>\n",
       "    </tr>\n",
       "    <tr>\n",
       "      <th>NaN</th>\n",
       "      <td>Bart Gets Hit by a Car</td>\n",
       "      <td>1991-10-01</td>\n",
       "      <td>7.8</td>\n",
       "    </tr>\n",
       "    <tr>\n",
       "      <th>7F13</th>\n",
       "      <td>Homer vs. Lisa and the 8th Commandment</td>\n",
       "      <td>1991-07-02</td>\n",
       "      <td>8.0</td>\n",
       "    </tr>\n",
       "  </tbody>\n",
       "</table>\n",
       "</div>"
      ],
      "text/plain": [
       "                                                             Title   Air date  \\\n",
       "Production code                                                                 \n",
       "7F01             Two Cars in Every Garage and Three Eyes on Eve... 1990-01-11   \n",
       "7F08                                                           NaN 1990-11-15   \n",
       "7F06                                            Bart the Daredevil 1990-06-12   \n",
       "NaN                                         Bart Gets Hit by a Car 1991-10-01   \n",
       "7F13                        Homer vs. Lisa and the 8th Commandment 1991-07-02   \n",
       "\n",
       "                 IMDB rating  \n",
       "Production code               \n",
       "7F01                     8.1  \n",
       "7F08                     8.0  \n",
       "7F06                     NaN  \n",
       "NaN                      7.8  \n",
       "7F13                     8.0  "
      ]
     },
     "execution_count": 36,
     "metadata": {},
     "output_type": "execute_result"
    }
   ],
   "source": [
    "simpsons.head()"
   ]
  },
  {
   "cell_type": "code",
   "execution_count": null,
   "id": "5c36fa66",
   "metadata": {},
   "outputs": [],
   "source": []
  }
 ],
 "metadata": {
  "kernelspec": {
   "display_name": "Python 3 (ipykernel)",
   "language": "python",
   "name": "python3"
  },
  "language_info": {
   "codemirror_mode": {
    "name": "ipython",
    "version": 3
   },
   "file_extension": ".py",
   "mimetype": "text/x-python",
   "name": "python",
   "nbconvert_exporter": "python",
   "pygments_lexer": "ipython3",
   "version": "3.9.12"
  }
 },
 "nbformat": 4,
 "nbformat_minor": 5
}
