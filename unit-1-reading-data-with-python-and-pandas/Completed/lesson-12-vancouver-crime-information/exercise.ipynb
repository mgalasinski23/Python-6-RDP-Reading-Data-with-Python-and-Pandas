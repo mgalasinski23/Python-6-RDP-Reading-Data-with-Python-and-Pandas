{
 "cells": [
  {
   "cell_type": "code",
   "execution_count": 3,
   "id": "e2b3b595",
   "metadata": {},
   "outputs": [],
   "source": [
    "import numpy as np\n",
    "import pandas as pd\n",
    "import sqlite3 as sql3"
   ]
  },
  {
   "cell_type": "code",
   "execution_count": 14,
   "id": "13673be9",
   "metadata": {},
   "outputs": [
    {
     "name": "stdout",
     "output_type": "stream",
     "text": [
      "<sqlite3.Connection object at 0x0000012379C24C60>\n",
      "<sqlite3.Cursor object at 0x000001237A736180>\n"
     ]
    }
   ],
   "source": [
    "conn = sqlite3.connect(':memory:')\n",
    "print(conn)\n",
    "cur = conn.cursor()\n",
    "cur.executescript(open('files/van_crime_2003.sql', 'r').read())\n",
    "print(cur)"
   ]
  },
  {
   "cell_type": "code",
   "execution_count": 17,
   "id": "f1d21be8",
   "metadata": {},
   "outputs": [],
   "source": [
    "crimes = pd.read_sql(\"SELECT * FROM van_crimes;\",conn)"
   ]
  },
  {
   "cell_type": "code",
   "execution_count": 19,
   "id": "e888691b",
   "metadata": {},
   "outputs": [
    {
     "data": {
      "text/html": [
       "<div>\n",
       "<style scoped>\n",
       "    .dataframe tbody tr th:only-of-type {\n",
       "        vertical-align: middle;\n",
       "    }\n",
       "\n",
       "    .dataframe tbody tr th {\n",
       "        vertical-align: top;\n",
       "    }\n",
       "\n",
       "    .dataframe thead th {\n",
       "        text-align: right;\n",
       "    }\n",
       "</style>\n",
       "<table border=\"1\" class=\"dataframe\">\n",
       "  <thead>\n",
       "    <tr style=\"text-align: right;\">\n",
       "      <th></th>\n",
       "      <th>TYPE</th>\n",
       "      <th>YEAR</th>\n",
       "      <th>MONTH</th>\n",
       "      <th>DAY</th>\n",
       "      <th>HOUR</th>\n",
       "      <th>MINUTE</th>\n",
       "      <th>HUNDRED_BLOCK</th>\n",
       "      <th>NEIGHBOURHOOD</th>\n",
       "      <th>X</th>\n",
       "      <th>Y</th>\n",
       "    </tr>\n",
       "  </thead>\n",
       "  <tbody>\n",
       "    <tr>\n",
       "      <th>0</th>\n",
       "      <td>Theft from Vehicle</td>\n",
       "      <td>2003</td>\n",
       "      <td>6</td>\n",
       "      <td>28.0</td>\n",
       "      <td>13.0</td>\n",
       "      <td>30.0</td>\n",
       "      <td>8XX EXPO BLVD</td>\n",
       "      <td>Central Business District</td>\n",
       "      <td>491771.63</td>\n",
       "      <td>5458295.01</td>\n",
       "    </tr>\n",
       "    <tr>\n",
       "      <th>1</th>\n",
       "      <td>Theft from Vehicle</td>\n",
       "      <td>2003</td>\n",
       "      <td>11</td>\n",
       "      <td>17.0</td>\n",
       "      <td>16.0</td>\n",
       "      <td>0.0</td>\n",
       "      <td>56XX OAK ST</td>\n",
       "      <td>South Cambie</td>\n",
       "      <td>490682.32</td>\n",
       "      <td>5453536.96</td>\n",
       "    </tr>\n",
       "    <tr>\n",
       "      <th>2</th>\n",
       "      <td>Theft from Vehicle</td>\n",
       "      <td>2003</td>\n",
       "      <td>12</td>\n",
       "      <td>30.0</td>\n",
       "      <td>14.0</td>\n",
       "      <td>0.0</td>\n",
       "      <td>85XX STANLEY PARK DR</td>\n",
       "      <td>Stanley Park</td>\n",
       "      <td>489104.19</td>\n",
       "      <td>5460347.36</td>\n",
       "    </tr>\n",
       "    <tr>\n",
       "      <th>3</th>\n",
       "      <td>Theft of Vehicle</td>\n",
       "      <td>2003</td>\n",
       "      <td>1</td>\n",
       "      <td>15.0</td>\n",
       "      <td>14.0</td>\n",
       "      <td>45.0</td>\n",
       "      <td>6XX W 41ST AVE</td>\n",
       "      <td>Oakridge</td>\n",
       "      <td>491372.94</td>\n",
       "      <td>5453422.83</td>\n",
       "    </tr>\n",
       "    <tr>\n",
       "      <th>4</th>\n",
       "      <td>Theft from Vehicle</td>\n",
       "      <td>2003</td>\n",
       "      <td>12</td>\n",
       "      <td>28.0</td>\n",
       "      <td>16.0</td>\n",
       "      <td>45.0</td>\n",
       "      <td>85XX STANLEY PARK DR</td>\n",
       "      <td>Stanley Park</td>\n",
       "      <td>489104.19</td>\n",
       "      <td>5460347.36</td>\n",
       "    </tr>\n",
       "  </tbody>\n",
       "</table>\n",
       "</div>"
      ],
      "text/plain": [
       "                 TYPE  YEAR  MONTH   DAY  HOUR  MINUTE         HUNDRED_BLOCK  \\\n",
       "0  Theft from Vehicle  2003      6  28.0  13.0    30.0         8XX EXPO BLVD   \n",
       "1  Theft from Vehicle  2003     11  17.0  16.0     0.0           56XX OAK ST   \n",
       "2  Theft from Vehicle  2003     12  30.0  14.0     0.0  85XX STANLEY PARK DR   \n",
       "3    Theft of Vehicle  2003      1  15.0  14.0    45.0        6XX W 41ST AVE   \n",
       "4  Theft from Vehicle  2003     12  28.0  16.0    45.0  85XX STANLEY PARK DR   \n",
       "\n",
       "               NEIGHBOURHOOD          X           Y  \n",
       "0  Central Business District  491771.63  5458295.01  \n",
       "1               South Cambie  490682.32  5453536.96  \n",
       "2               Stanley Park  489104.19  5460347.36  \n",
       "3                   Oakridge  491372.94  5453422.83  \n",
       "4               Stanley Park  489104.19  5460347.36  "
      ]
     },
     "execution_count": 19,
     "metadata": {},
     "output_type": "execute_result"
    }
   ],
   "source": [
    "crimes.head()"
   ]
  },
  {
   "cell_type": "code",
   "execution_count": 20,
   "id": "8f7f5020",
   "metadata": {},
   "outputs": [
    {
     "data": {
      "text/html": [
       "<div>\n",
       "<style scoped>\n",
       "    .dataframe tbody tr th:only-of-type {\n",
       "        vertical-align: middle;\n",
       "    }\n",
       "\n",
       "    .dataframe tbody tr th {\n",
       "        vertical-align: top;\n",
       "    }\n",
       "\n",
       "    .dataframe thead th {\n",
       "        text-align: right;\n",
       "    }\n",
       "</style>\n",
       "<table border=\"1\" class=\"dataframe\">\n",
       "  <thead>\n",
       "    <tr style=\"text-align: right;\">\n",
       "      <th></th>\n",
       "      <th>TYPE</th>\n",
       "      <th>YEAR</th>\n",
       "      <th>MONTH</th>\n",
       "      <th>DAY</th>\n",
       "      <th>HOUR</th>\n",
       "      <th>MINUTE</th>\n",
       "      <th>HUNDRED_BLOCK</th>\n",
       "      <th>NEIGHBOURHOOD</th>\n",
       "      <th>X</th>\n",
       "      <th>Y</th>\n",
       "    </tr>\n",
       "  </thead>\n",
       "  <tbody>\n",
       "    <tr>\n",
       "      <th>12</th>\n",
       "      <td>Theft of Vehicle</td>\n",
       "      <td>2003</td>\n",
       "      <td>9</td>\n",
       "      <td>2.0</td>\n",
       "      <td>21.0</td>\n",
       "      <td>0.0</td>\n",
       "      <td>20XX E 28TH AVE</td>\n",
       "      <td>Kensington-Cedar Cottage</td>\n",
       "      <td>495267.03</td>\n",
       "      <td>5454779.05</td>\n",
       "    </tr>\n",
       "    <tr>\n",
       "      <th>13</th>\n",
       "      <td>Theft from Vehicle</td>\n",
       "      <td>2003</td>\n",
       "      <td>9</td>\n",
       "      <td>27.0</td>\n",
       "      <td>22.0</td>\n",
       "      <td>30.0</td>\n",
       "      <td>85XX STANLEY PARK DR</td>\n",
       "      <td>Stanley Park</td>\n",
       "      <td>489104.19</td>\n",
       "      <td>5460347.36</td>\n",
       "    </tr>\n",
       "    <tr>\n",
       "      <th>14</th>\n",
       "      <td>Theft from Vehicle</td>\n",
       "      <td>2003</td>\n",
       "      <td>12</td>\n",
       "      <td>17.0</td>\n",
       "      <td>21.0</td>\n",
       "      <td>0.0</td>\n",
       "      <td>31XX WILLOW ST</td>\n",
       "      <td>Fairview</td>\n",
       "      <td>491115.72</td>\n",
       "      <td>5456039.96</td>\n",
       "    </tr>\n",
       "    <tr>\n",
       "      <th>18</th>\n",
       "      <td>Theft from Vehicle</td>\n",
       "      <td>2003</td>\n",
       "      <td>9</td>\n",
       "      <td>1.0</td>\n",
       "      <td>20.0</td>\n",
       "      <td>10.0</td>\n",
       "      <td>85XX STANLEY PARK DR</td>\n",
       "      <td>Stanley Park</td>\n",
       "      <td>489104.19</td>\n",
       "      <td>5460347.36</td>\n",
       "    </tr>\n",
       "    <tr>\n",
       "      <th>19</th>\n",
       "      <td>Theft from Vehicle</td>\n",
       "      <td>2003</td>\n",
       "      <td>8</td>\n",
       "      <td>17.0</td>\n",
       "      <td>19.0</td>\n",
       "      <td>0.0</td>\n",
       "      <td>85XX STANLEY PARK DR</td>\n",
       "      <td>Stanley Park</td>\n",
       "      <td>489104.19</td>\n",
       "      <td>5460347.36</td>\n",
       "    </tr>\n",
       "  </tbody>\n",
       "</table>\n",
       "</div>"
      ],
      "text/plain": [
       "                  TYPE  YEAR  MONTH   DAY  HOUR  MINUTE         HUNDRED_BLOCK  \\\n",
       "12    Theft of Vehicle  2003      9   2.0  21.0     0.0       20XX E 28TH AVE   \n",
       "13  Theft from Vehicle  2003      9  27.0  22.0    30.0  85XX STANLEY PARK DR   \n",
       "14  Theft from Vehicle  2003     12  17.0  21.0     0.0        31XX WILLOW ST   \n",
       "18  Theft from Vehicle  2003      9   1.0  20.0    10.0  85XX STANLEY PARK DR   \n",
       "19  Theft from Vehicle  2003      8  17.0  19.0     0.0  85XX STANLEY PARK DR   \n",
       "\n",
       "               NEIGHBOURHOOD          X           Y  \n",
       "12  Kensington-Cedar Cottage  495267.03  5454779.05  \n",
       "13              Stanley Park  489104.19  5460347.36  \n",
       "14                  Fairview  491115.72  5456039.96  \n",
       "18              Stanley Park  489104.19  5460347.36  \n",
       "19              Stanley Park  489104.19  5460347.36  "
      ]
     },
     "execution_count": 20,
     "metadata": {},
     "output_type": "execute_result"
    }
   ],
   "source": [
    "late_crimes = crimes[crimes['HOUR']>=18]\n",
    "late_crimes.head()"
   ]
  },
  {
   "cell_type": "code",
   "execution_count": 34,
   "id": "cc445fa1",
   "metadata": {},
   "outputs": [
    {
     "name": "stdout",
     "output_type": "stream",
     "text": [
      "5   31\n"
     ]
    }
   ],
   "source": [
    "crimes_by_month={}\n",
    "for i in range(12):\n",
    "    no_crimes=crimes[crimes['MONTH']==i+1]['MONTH'].count()\n",
    "    crimes_by_month[i+1]=no_crimes\n",
    "\n",
    "dangerous_month_crimes=0\n",
    "dangerous_month=0\n",
    "for key, value in crimes_by_month.items():\n",
    "    if value>dangerous_month_crimes:\n",
    "        dangerous_month_crimes=value\n",
    "        dangerous_month=key\n",
    "    else:\n",
    "        continue\n",
    "\n",
    "print(dangerous_month,\" \", dangerous_month_crimes)"
   ]
  },
  {
   "cell_type": "markdown",
   "id": "b3f5f9cb",
   "metadata": {},
   "source": [
    "## The solutions approach uses a function DF method I didn't know:"
   ]
  },
  {
   "cell_type": "code",
   "execution_count": 35,
   "id": "489b0827",
   "metadata": {},
   "outputs": [
    {
     "data": {
      "text/plain": [
       "0      6\n",
       "1     11\n",
       "2     12\n",
       "3      1\n",
       "4     12\n",
       "5     12\n",
       "6     12\n",
       "7      1\n",
       "8      2\n",
       "9     11\n",
       "10    10\n",
       "11    10\n",
       "12     9\n",
       "13     9\n",
       "14    12\n",
       "15     3\n",
       "16     9\n",
       "17     9\n",
       "18     9\n",
       "19     8\n",
       "Name: MONTH, dtype: int64"
      ]
     },
     "execution_count": 35,
     "metadata": {},
     "output_type": "execute_result"
    }
   ],
   "source": [
    "month_df = crimes.loc[:, 'MONTH']\n",
    "month_df.head(20)\n",
    "\n",
    "#dangerous_month_crimes = van_crimes_df.loc[:, 'MONTH'].value_counts().head(1)"
   ]
  },
  {
   "cell_type": "code",
   "execution_count": 37,
   "id": "66ce155e",
   "metadata": {},
   "outputs": [
    {
     "data": {
      "text/plain": [
       "5     31\n",
       "6     27\n",
       "12    25\n",
       "9     24\n",
       "1     23\n",
       "2     19\n",
       "10    19\n",
       "4     19\n",
       "3     17\n",
       "7     17\n",
       "11    15\n",
       "8     14\n",
       "Name: MONTH, dtype: int64"
      ]
     },
     "execution_count": 37,
     "metadata": {},
     "output_type": "execute_result"
    }
   ],
   "source": [
    "month_df.value_counts() #nice little aggregating function"
   ]
  },
  {
   "cell_type": "code",
   "execution_count": null,
   "id": "c7b1f3da",
   "metadata": {},
   "outputs": [],
   "source": []
  }
 ],
 "metadata": {
  "kernelspec": {
   "display_name": "Python 3 (ipykernel)",
   "language": "python",
   "name": "python3"
  },
  "language_info": {
   "codemirror_mode": {
    "name": "ipython",
    "version": 3
   },
   "file_extension": ".py",
   "mimetype": "text/x-python",
   "name": "python",
   "nbconvert_exporter": "python",
   "pygments_lexer": "ipython3",
   "version": "3.9.12"
  }
 },
 "nbformat": 4,
 "nbformat_minor": 5
}
