{
 "cells": [
  {
   "cell_type": "code",
   "execution_count": 6,
   "id": "680b4173",
   "metadata": {},
   "outputs": [],
   "source": [
    "import numpy as np\n",
    "import pandas as pd\n",
    "\n",
    "column_names = ['color', 'director_name', 'num_critic_for_reviews', 'duration',\n",
    "                'gross', 'movie_title', 'num_user_for_reviews','country',\n",
    "                'cotent_rating', 'budget', 'title_year', 'imdb_score', 'genre']\n",
    "\n"
   ]
  },
  {
   "cell_type": "code",
   "execution_count": 24,
   "id": "77efab1f",
   "metadata": {},
   "outputs": [
    {
     "data": {
      "text/html": [
       "<div>\n",
       "<style scoped>\n",
       "    .dataframe tbody tr th:only-of-type {\n",
       "        vertical-align: middle;\n",
       "    }\n",
       "\n",
       "    .dataframe tbody tr th {\n",
       "        vertical-align: top;\n",
       "    }\n",
       "\n",
       "    .dataframe thead th {\n",
       "        text-align: right;\n",
       "    }\n",
       "</style>\n",
       "<table border=\"1\" class=\"dataframe\">\n",
       "  <thead>\n",
       "    <tr style=\"text-align: right;\">\n",
       "      <th></th>\n",
       "      <th>color</th>\n",
       "      <th>director_name</th>\n",
       "      <th>num_critic_for_reviews</th>\n",
       "      <th>duration</th>\n",
       "      <th>gross</th>\n",
       "      <th>movie_title</th>\n",
       "      <th>num_user_for_reviews</th>\n",
       "      <th>country</th>\n",
       "      <th>cotent_rating</th>\n",
       "      <th>budget</th>\n",
       "      <th>title_year</th>\n",
       "      <th>imdb_score</th>\n",
       "      <th>genre</th>\n",
       "    </tr>\n",
       "  </thead>\n",
       "  <tbody>\n",
       "    <tr>\n",
       "      <th>0</th>\n",
       "      <td>Color</td>\n",
       "      <td>Christopher Nolan</td>\n",
       "      <td>813.0</td>\n",
       "      <td>164.0</td>\n",
       "      <td>448130642.0</td>\n",
       "      <td>The Dark Knight Rises</td>\n",
       "      <td>2701.0</td>\n",
       "      <td>USA</td>\n",
       "      <td>PG-13</td>\n",
       "      <td>250,000,000.0</td>\n",
       "      <td>2012.0</td>\n",
       "      <td>8.5</td>\n",
       "      <td>Action</td>\n",
       "    </tr>\n",
       "    <tr>\n",
       "      <th>1</th>\n",
       "      <td>?</td>\n",
       "      <td>Doug Walker</td>\n",
       "      <td>?</td>\n",
       "      <td>?</td>\n",
       "      <td>?</td>\n",
       "      <td>Star Wars: Episode VII - The Force Awakens    ...</td>\n",
       "      <td>?</td>\n",
       "      <td>?</td>\n",
       "      <td>?</td>\n",
       "      <td>?</td>\n",
       "      <td>?</td>\n",
       "      <td>7.1</td>\n",
       "      <td>Documentary</td>\n",
       "    </tr>\n",
       "    <tr>\n",
       "      <th>2</th>\n",
       "      <td>Color</td>\n",
       "      <td>Andrew Stanton</td>\n",
       "      <td>462.0</td>\n",
       "      <td>132.0</td>\n",
       "      <td>73058679.0</td>\n",
       "      <td>John Carter</td>\n",
       "      <td>738.0</td>\n",
       "      <td>USA</td>\n",
       "      <td>PG-13</td>\n",
       "      <td>263,700,000.0</td>\n",
       "      <td>2012.0</td>\n",
       "      <td>6.6</td>\n",
       "      <td>Action</td>\n",
       "    </tr>\n",
       "    <tr>\n",
       "      <th>3</th>\n",
       "      <td>Color</td>\n",
       "      <td>Sam Raimi</td>\n",
       "      <td>392.0</td>\n",
       "      <td>156.0</td>\n",
       "      <td>336530303.0</td>\n",
       "      <td>Spider-Man 3</td>\n",
       "      <td>1902.0</td>\n",
       "      <td>USA</td>\n",
       "      <td>PG-13</td>\n",
       "      <td>258,000,000.0</td>\n",
       "      <td>2007.0</td>\n",
       "      <td>6.2</td>\n",
       "      <td>Action</td>\n",
       "    </tr>\n",
       "    <tr>\n",
       "      <th>4</th>\n",
       "      <td>Color</td>\n",
       "      <td>Nathan Greno</td>\n",
       "      <td>324.0</td>\n",
       "      <td>100.0</td>\n",
       "      <td>200807262.0</td>\n",
       "      <td>Tangled</td>\n",
       "      <td>387.0</td>\n",
       "      <td>USA</td>\n",
       "      <td>PG</td>\n",
       "      <td>260,000,000.0</td>\n",
       "      <td>2010.0</td>\n",
       "      <td>7.8</td>\n",
       "      <td>Adventure</td>\n",
       "    </tr>\n",
       "  </tbody>\n",
       "</table>\n",
       "</div>"
      ],
      "text/plain": [
       "   color      director_name num_critic_for_reviews duration        gross  \\\n",
       "0  Color  Christopher Nolan                  813.0    164.0  448130642.0   \n",
       "1      ?        Doug Walker                      ?        ?            ?   \n",
       "2  Color     Andrew Stanton                  462.0    132.0   73058679.0   \n",
       "3  Color          Sam Raimi                  392.0    156.0  336530303.0   \n",
       "4  Color       Nathan Greno                  324.0    100.0  200807262.0   \n",
       "\n",
       "                                         movie_title num_user_for_reviews  \\\n",
       "0                             The Dark Knight Rises                2701.0   \n",
       "1  Star Wars: Episode VII - The Force Awakens    ...                    ?   \n",
       "2                                       John Carter                 738.0   \n",
       "3                                      Spider-Man 3                1902.0   \n",
       "4                                           Tangled                 387.0   \n",
       "\n",
       "  country cotent_rating         budget title_year  imdb_score        genre  \n",
       "0     USA         PG-13  250,000,000.0     2012.0         8.5       Action  \n",
       "1       ?             ?              ?          ?         7.1  Documentary  \n",
       "2     USA         PG-13  263,700,000.0     2012.0         6.6       Action  \n",
       "3     USA         PG-13  258,000,000.0     2007.0         6.2       Action  \n",
       "4     USA            PG  260,000,000.0     2010.0         7.8    Adventure  "
      ]
     },
     "execution_count": 24,
     "metadata": {},
     "output_type": "execute_result"
    }
   ],
   "source": [
    "movies = pd.read_csv('files/movies.csv',\n",
    "                 sep=\"|\",\n",
    "                header=None,\n",
    "                names=column_names,\n",
    "                skiprows=3)\n",
    "movies.head()"
   ]
  },
  {
   "cell_type": "code",
   "execution_count": 33,
   "id": "9437d2eb",
   "metadata": {},
   "outputs": [],
   "source": [
    "from tests.test_score import *\n",
    "from tests.test_shape import *\n",
    "\n",
    "#this is how you import other python files but i can't figure out how to call the functions\n",
    "#since it seems \"movies\" variable is locally defined and not globally?"
   ]
  },
  {
   "cell_type": "code",
   "execution_count": 34,
   "id": "4009e1ef",
   "metadata": {},
   "outputs": [
    {
     "data": {
      "text/plain": [
       "(97, 13)"
      ]
     },
     "execution_count": 34,
     "metadata": {},
     "output_type": "execute_result"
    }
   ],
   "source": [
    "movies.shape"
   ]
  },
  {
   "cell_type": "code",
   "execution_count": 35,
   "id": "7bc4be79",
   "metadata": {},
   "outputs": [
    {
     "data": {
      "text/plain": [
       "True"
      ]
     },
     "execution_count": 35,
     "metadata": {},
     "output_type": "execute_result"
    }
   ],
   "source": [
    "movies.loc[:, 'imdb_score'].max() == 9"
   ]
  },
  {
   "cell_type": "code",
   "execution_count": null,
   "id": "99444a57",
   "metadata": {},
   "outputs": [],
   "source": []
  }
 ],
 "metadata": {
  "kernelspec": {
   "display_name": "Python 3 (ipykernel)",
   "language": "python",
   "name": "python3"
  },
  "language_info": {
   "codemirror_mode": {
    "name": "ipython",
    "version": 3
   },
   "file_extension": ".py",
   "mimetype": "text/x-python",
   "name": "python",
   "nbconvert_exporter": "python",
   "pygments_lexer": "ipython3",
   "version": "3.9.12"
  }
 },
 "nbformat": 4,
 "nbformat_minor": 5
}
